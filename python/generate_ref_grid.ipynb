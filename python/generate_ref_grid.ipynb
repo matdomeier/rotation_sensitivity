{
 "cells": [
  {
   "cell_type": "markdown",
   "id": "9a0e2ec4-e582-4677-8a94-b06aa25eb924",
   "metadata": {},
   "source": [
    "### This notebook makes a reference grid using Uber's h3 library and saves to a .csv file"
   ]
  },
  {
   "cell_type": "code",
   "execution_count": 1,
   "id": "d663a8be-b532-4dae-a72e-0d32b41dc5fb",
   "metadata": {},
   "outputs": [],
   "source": [
    "import h3\n",
    "import pandas as pd"
   ]
  },
  {
   "cell_type": "code",
   "execution_count": 2,
   "id": "8e90d687-ec42-49bb-9821-45a06e8a88f6",
   "metadata": {},
   "outputs": [],
   "source": [
    "resolution = 3  # resolution of mesh in integer range: 0-15, where 0 is the coarsest resolution\n",
    "\n",
    "geoJson_hemisphere1 = {'type': 'Polygon', 'coordinates': [[[90,-180],[90,0],[-90,0],[-90,-180]]]}\n",
    "geoJson_hemisphere2 = {'type': 'Polygon', 'coordinates': [[[90,0],[90,180],[-90,180],[-90,0]]]}\n",
    "hexagons = list(h3.polyfill(geoJson_hemisphere1, resolution)) + list(h3.polyfill(geoJson_hemisphere2, resolution))\n",
    "centroids = [h3.h3_to_geo(x) for x in hexagons]\n",
    "lats = [x[0] for x in centroids]\n",
    "lons = [x[1] for x in centroids]\n",
    "\n",
    "df = pd.DataFrame(list(zip(lons, lats)),\n",
    "                  columns =['lng', 'lat'])\n",
    "\n",
    "df.to_csv('reference_grid/reference_grid.csv', index=False, float_format='%.4f')"
   ]
  }
 ],
 "metadata": {
  "kernelspec": {
   "display_name": "Python 3",
   "language": "python",
   "name": "python3"
  },
  "language_info": {
   "codemirror_mode": {
    "name": "ipython",
    "version": 3
   },
   "file_extension": ".py",
   "mimetype": "text/x-python",
   "name": "python",
   "nbconvert_exporter": "python",
   "pygments_lexer": "ipython3",
   "version": "3.8.10"
  }
 },
 "nbformat": 4,
 "nbformat_minor": 5
}
